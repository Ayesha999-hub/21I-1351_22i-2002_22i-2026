{
 "cells": [
  {
   "cell_type": "code",
   "execution_count": 10,
   "id": "061ae474",
   "metadata": {},
   "outputs": [],
   "source": [
    "#==========================\n",
    " #import libraries\n",
    "#==========================\n",
    "import pandas as pd\n",
    "import nltk\n",
    "import re\n",
    "from nltk.corpus import stopwords\n",
    "from nltk.tokenize import word_tokenize\n",
    "from nltk.stem import WordNetLemmatizer"
   ]
  },
  {
   "cell_type": "code",
   "execution_count": 11,
   "id": "c71fa4ae",
   "metadata": {},
   "outputs": [
    {
     "name": "stderr",
     "output_type": "stream",
     "text": [
      "[nltk_data] Downloading package punkt to\n",
      "[nltk_data]     C:\\Users\\Maheen\\AppData\\Roaming\\nltk_data...\n",
      "[nltk_data]   Package punkt is already up-to-date!\n",
      "[nltk_data] Downloading package stopwords to\n",
      "[nltk_data]     C:\\Users\\Maheen\\AppData\\Roaming\\nltk_data...\n",
      "[nltk_data]   Package stopwords is already up-to-date!\n",
      "[nltk_data] Downloading package wordnet to\n",
      "[nltk_data]     C:\\Users\\Maheen\\AppData\\Roaming\\nltk_data...\n",
      "[nltk_data]   Package wordnet is already up-to-date!\n"
     ]
    },
    {
     "data": {
      "text/plain": [
       "True"
      ]
     },
     "execution_count": 11,
     "metadata": {},
     "output_type": "execute_result"
    }
   ],
   "source": [
    "nltk.download('punkt')\n",
    "nltk.download('stopwords')\n",
    "nltk.download('wordnet')"
   ]
  },
  {
   "cell_type": "code",
   "execution_count": 12,
   "id": "b00d9ef2",
   "metadata": {},
   "outputs": [],
   "source": [
    "# Function to preprocess text\n",
    "def preprocess_text(text):\n",
    "    #===================================\n",
    "    # Check if text is not null or NaN\n",
    "    #===================================\n",
    "    if pd.isna(text):\n",
    "        return ''\n",
    "    \n",
    "    #======================================================\n",
    "    # Remove special characters, punctuation, and numbers\n",
    "    #======================================================\n",
    "    text = re.sub(r'[^a-zA-Z\\s]', '', text)\n",
    "    \n",
    "     #===============================\n",
    "    # Convert text to lowercase\n",
    "    #===============================\n",
    "    text = text.lower()\n",
    "    \n",
    "     #===============================\n",
    "     # Tokenize the text into words\n",
    "     #===============================\n",
    "    words = word_tokenize(text)\n",
    "    \n",
    "     #===============================\n",
    "     # Remove stop words\n",
    "     #===============================\n",
    "    stop_words = set(stopwords.words('english'))\n",
    "    words = [word for word in words if word not in stop_words]\n",
    "    \n",
    "    #===============================\n",
    "     # Lemmatize the words\n",
    "    #===============================\n",
    "    lemmatizer = WordNetLemmatizer()\n",
    "    words = [lemmatizer.lemmatize(word) for word in words]\n",
    "    \n",
    "    #==================================\n",
    "    # Join the words back into a string\n",
    "    #===================================\n",
    "    preprocessed_text = ' '.join(words)\n",
    "    return preprocessed_text"
   ]
  },
  {
   "cell_type": "code",
   "execution_count": 13,
   "id": "0e5e9ac7",
   "metadata": {},
   "outputs": [],
   "source": [
    "\n",
    "dataset_path = 'C:\\\\Users\\\\Maheen\\\\Downloads\\\\enwiki-20170820.csv'\n",
    "output_csv_path = 'data.csv'\n",
    "chunksize = 100000  "
   ]
  },
  {
   "cell_type": "code",
   "execution_count": 14,
   "id": "3e233877",
   "metadata": {},
   "outputs": [],
   "source": [
    "# Initialize an empty list to store preprocessed chunks\n",
    "processed_chunks = []"
   ]
  },
  {
   "cell_type": "code",
   "execution_count": 15,
   "id": "7be4bbf9",
   "metadata": {},
   "outputs": [],
   "source": [
    "#==========================\n",
    "# Preprocess each chunk\n",
    "#==========================\n",
    "for chunk in pd.read_csv(dataset_path, chunksize=chunksize, usecols=['ARTICLE_ID', 'SECTION_TEXT']):\n",
    "    # Preprocess SECTION_TEXT column\n",
    "    chunk['SECTION_TEXT'] = chunk['SECTION_TEXT'].apply(preprocess_text)\n",
    "    "
   ]
  },
  {
   "cell_type": "code",
   "execution_count": 16,
   "id": "612b60a1",
   "metadata": {},
   "outputs": [],
   "source": [
    "processed_chunks.append(chunk)"
   ]
  },
  {
   "cell_type": "code",
   "execution_count": 17,
   "id": "6fca185b",
   "metadata": {},
   "outputs": [],
   "source": [
    "#======================================================\n",
    "# Concatenate preprocessed chunks into a single DataFrame\n",
    "#======================================================\n",
    "df_processed = pd.concat(processed_chunks)\n"
   ]
  },
  {
   "cell_type": "code",
   "execution_count": 18,
   "id": "08ee938c",
   "metadata": {},
   "outputs": [
    {
     "name": "stdout",
     "output_type": "stream",
     "text": [
      "Preprocessing complete. Preprocessed data saved to: data.csv\n"
     ]
    }
   ],
   "source": [
    "#==========================\n",
    "# Save preprocessed data \n",
    "#==========================\n",
    "df_processed.to_csv(output_csv_path, index=False)\n",
    "print(\"Preprocessing complete. Preprocessed data saved to:\", output_csv_path)"
   ]
  },
  {
   "cell_type": "code",
   "execution_count": null,
   "id": "bc8d6b82",
   "metadata": {},
   "outputs": [],
   "source": []
  }
 ],
 "metadata": {
  "kernelspec": {
   "display_name": "Python 3 (ipykernel)",
   "language": "python",
   "name": "python3"
  },
  "language_info": {
   "codemirror_mode": {
    "name": "ipython",
    "version": 3
   },
   "file_extension": ".py",
   "mimetype": "text/x-python",
   "name": "python",
   "nbconvert_exporter": "python",
   "pygments_lexer": "ipython3",
   "version": "3.9.12"
  }
 },
 "nbformat": 4,
 "nbformat_minor": 5
}
